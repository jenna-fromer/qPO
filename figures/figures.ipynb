{
 "cells": [
  {
   "cell_type": "code",
   "execution_count": null,
   "metadata": {},
   "outputs": [],
   "source": [
    "from pathlib import Path \n",
    "import pandas as pd \n",
    "import matplotlib.pyplot as plt\n",
    "import seaborn as sns \n",
    "import numpy as np \n",
    "import json \n",
    "import plot_utils\n",
    "from importlib import reload\n",
    "reload(plot_utils)\n",
    "\n",
    "plot_utils.set_style()\n",
    "plt.ioff()"
   ]
  },
  {
   "cell_type": "code",
   "execution_count": 3,
   "metadata": {},
   "outputs": [],
   "source": [
    "result_dir = Path('../results')\n",
    "data_dir = Path('../data')\n",
    "\n",
    "method_order = {'Ours': 0, 'pTS': 1, 'qEI': 2, 'Greedy': 3, 'UCB': 4}\n"
   ]
  },
  {
   "cell_type": "markdown",
   "metadata": {},
   "source": [
    "# Maximizing homo-lumo gap "
   ]
  },
  {
   "cell_type": "markdown",
   "metadata": {},
   "source": [
    "### Loading, calculating"
   ]
  },
  {
   "cell_type": "code",
   "execution_count": 4,
   "metadata": {},
   "outputs": [],
   "source": [
    "storage = []\n",
    "for file in result_dir.glob('qm9*.json'): \n",
    "    with open(file, 'r') as f: \n",
    "        storage.extend(json.load(f))"
   ]
  },
  {
   "cell_type": "markdown",
   "metadata": {},
   "source": [
    "Identify true top k and add to storage fraction of true top k information."
   ]
  },
  {
   "cell_type": "code",
   "execution_count": null,
   "metadata": {},
   "outputs": [],
   "source": [
    "all_data = pd.read_csv(data_dir / 'qm9.csv')\n",
    "all_smiles = list(all_data['smiles'])\n",
    "test_data = {smi: score for smi, score in zip(all_smiles, all_data['gap'])}\n",
    "\n",
    "k = [0.0001, 0.001, 0.01]\n",
    "kN = [int(np.ceil(kk*len(test_data))) for kk in k]\n",
    "for ki, kNi in zip(k, kN): print(f'{100*ki:0.2f}%: {kNi} compounds')\n",
    "top_smis = {kk: set(sorted(list(test_data), key = lambda smi: -1*test_data[smi])[:kk]) for kk in kN}\n",
    "\n",
    "for entry in storage: \n",
    "    for kkN, kk in zip(kN, k): \n",
    "        entry[f'Fraction top {100*kk:0.2f}%'] = len(top_smis[kkN].intersection(set(entry[\"All acquired points\"].keys())))/kkN\n",
    "    entry.pop(\"All acquired points\")\n",
    "    entry.pop(\"New acquired points\")\n",
    "\n",
    "data = pd.DataFrame(storage).sort_values(by='Method', key = lambda x: x.map(method_order))"
   ]
  },
  {
   "cell_type": "markdown",
   "metadata": {},
   "source": [
    "### Plotting"
   ]
  },
  {
   "cell_type": "code",
   "execution_count": 6,
   "metadata": {},
   "outputs": [],
   "source": [
    "fig_dir = Path('qm9')\n",
    "fig_dir.mkdir(exist_ok=True, parents=True)\n",
    "\n",
    "latex = plot_utils.df_to_latex(data=data)\n",
    "with open(fig_dir / 'table.txt', 'w') as f: \n",
    "    f.write(latex)"
   ]
  },
  {
   "cell_type": "markdown",
   "metadata": {},
   "source": [
    "### Average of top k acquired "
   ]
  },
  {
   "cell_type": "code",
   "execution_count": null,
   "metadata": {},
   "outputs": [],
   "source": [
    "for kk in [10, 50, 100]:\n",
    "    fig, ax = plt.subplots(1,1)\n",
    "    sns.lineplot(\n",
    "        data=data, x='Iteration', y=f'Top {kk} ave', \n",
    "        hue='Method', style='Method', palette=plot_utils.method_colors,\n",
    "        ax=ax, errorbar=('se',1))\n",
    "    ax.set_ylabel(f'Top {kk} average')\n",
    "    plot_utils.set_size(w=1.2, h=1, ax=ax)\n",
    "    fig.savefig(fig_dir / f'top_{kk}_average.pdf', bbox_inches='tight', transparent=True)\n",
    "\n"
   ]
  },
  {
   "cell_type": "markdown",
   "metadata": {},
   "source": [
    "### Fraction of true top k "
   ]
  },
  {
   "cell_type": "code",
   "execution_count": null,
   "metadata": {},
   "outputs": [],
   "source": [
    "for kk, kkN in zip(k, kN):\n",
    "    fig, ax = plt.subplots(1,1)\n",
    "    sns.lineplot(\n",
    "        data=data, x='Iteration', y=f'Fraction top {100*kk:0.2f}%', \n",
    "        hue='Method', style='Method', palette=plot_utils.method_colors,\n",
    "        ax=ax, errorbar=(\"se\", 1), legend=False)\n",
    "    ax.set_ylabel(f'Fraction of top {100*kk:0.2f}%')\n",
    "    plot_utils.set_size(w=1.2, h=1, ax=ax)\n",
    "    fig.savefig(fig_dir / f'fraction_true_top_{kk}.pdf', bbox_inches='tight', transparent=True)\n"
   ]
  },
  {
   "cell_type": "markdown",
   "metadata": {},
   "source": [
    "# Antibiotics"
   ]
  },
  {
   "cell_type": "code",
   "execution_count": 9,
   "metadata": {},
   "outputs": [],
   "source": [
    "result_dir = Path('../results')\n",
    "\n",
    "storage = []\n",
    "for file in result_dir.rglob('wong_antibiotics*.json'): \n",
    "    with open(file, 'r') as f: \n",
    "        storage.extend(json.load(f))"
   ]
  },
  {
   "cell_type": "code",
   "execution_count": null,
   "metadata": {},
   "outputs": [],
   "source": [
    "all_data = pd.read_csv(data_dir / 'wong_antibiotics.csv')\n",
    "all_smiles = list(all_data['smiles'])\n",
    "test_data = {smi: score for smi, score in zip(all_smiles, all_data['Mean_50uM'])}\n",
    "\n",
    "k = [0.005, 0.01, 0.05]\n",
    "kN = [int(np.ceil(kk*len(test_data))) for kk in k]\n",
    "for ki, kNi in zip(k, kN): print(f'{100*ki:0.2f}%: {kNi} compounds')\n",
    "top_smis = {kk: set(sorted(list(test_data), key = lambda smi: test_data[smi])[:kk]) for kk in kN}\n",
    "\n",
    "for entry in storage: \n",
    "    for kkN, kk in zip(kN, k): \n",
    "        entry[f'Fraction top {100*kk:0.2f}%'] = len(top_smis[kkN].intersection(set(entry[\"All acquired points\"].keys())))/kkN\n",
    "    entry.pop(\"All acquired points\")\n",
    "    entry.pop(\"New acquired points\")\n",
    "\n",
    "data = pd.DataFrame(storage).sort_values(by='Method', key=lambda x: x.map(method_order))"
   ]
  },
  {
   "cell_type": "code",
   "execution_count": 11,
   "metadata": {},
   "outputs": [],
   "source": [
    "fig_dir = Path('antibiotics')\n",
    "fig_dir.mkdir(exist_ok=True, parents=True)\n",
    "\n",
    "latex = plot_utils.df_to_latex(data=data)\n",
    "with open(fig_dir / 'table.txt', 'w') as f: \n",
    "    f.write(latex)"
   ]
  },
  {
   "cell_type": "code",
   "execution_count": null,
   "metadata": {},
   "outputs": [],
   "source": [
    "for kk in [10, 50, 100]:\n",
    "    fig, ax = plt.subplots(1,1)\n",
    "    sns.lineplot(\n",
    "        data=data, x='Iteration', y=f'Top {kk} ave', \n",
    "        hue='Method', style='Method', \n",
    "        ax=ax, palette=plot_utils.method_colors, errorbar=('se',1))\n",
    "    ax.set_ylabel(f'Top {kk} average')\n",
    "    plot_utils.set_size(w=1.2, h=1, ax=ax)\n",
    "    fig.savefig(fig_dir / f'top_{kk}_average.pdf', bbox_inches='tight', transparent=True)\n",
    "\n",
    "for kk, kkN in zip(k, kN):\n",
    "    fig, ax = plt.subplots(1,1)\n",
    "    sns.lineplot(\n",
    "        data=data, x='Iteration', y=f'Fraction top {100*kk:0.2f}%', \n",
    "        hue='Method', style='Method', \n",
    "        ax=ax, palette=plot_utils.method_colors, errorbar=(\"se\", 1))\n",
    "    ax.set_ylabel(f'Fraction of top {100*kk:0.2f}%')\n",
    "    plot_utils.set_size(w=1.2, h=1, ax=ax)\n",
    "    fig.savefig(fig_dir / f'fraction_true_top_{kk}.pdf', bbox_inches='tight', transparent=True)"
   ]
  },
  {
   "cell_type": "markdown",
   "metadata": {},
   "source": [
    "# Visualizing clusters in batches"
   ]
  },
  {
   "cell_type": "markdown",
   "metadata": {},
   "source": [
    "### Featurizer code "
   ]
  },
  {
   "cell_type": "code",
   "execution_count": 13,
   "metadata": {},
   "outputs": [],
   "source": [
    "from rdkit import Chem\n",
    "from rdkit.Chem import rdFingerprintGenerator\n",
    "\n",
    "def smiles_to_fingerprint_arr(\n",
    "    smiles_list: list[str],\n",
    "    radius: int = 3, \n",
    "    fpSize: int = 2048,\n",
    ") -> np.array:\n",
    "    \"\"\" Converts a list of SMILES to a numpy array of fingerprints \"\"\"\n",
    "\n",
    "    mfpgen = rdFingerprintGenerator.GetMorganGenerator(radius=radius, fpSize=fpSize)\n",
    "    mols = [Chem.MolFromSmiles(s) for s in smiles_list]\n",
    "    fps = [mfpgen.GetCountFingerprintAsNumPy(m) for m in mols]\n",
    "    return np.asarray(fps, dtype=float)\n",
    "\n",
    "def fp_featurizer(smiles_list): \n",
    "    \"\"\" Generates a dictionary mapping SMILES in the design space to count Morgan fingerprints \"\"\"\n",
    "    fps = smiles_to_fingerprint_arr(smiles_list)\n",
    "    featurizer = {\n",
    "        smi: fps[i,:]\n",
    "        for i, smi in enumerate(smiles_list)\n",
    "    }\n",
    "    return featurizer\n",
    "\n",
    "def tanimoto_similarity(v1: np.array, v2: np.array):\n",
    "\n",
    "    # Compute dot products and norms\n",
    "    dot_product = np.dot(v1, v2)\n",
    "    norm_vec1 = np.dot(v1, v1)\n",
    "    norm_vec2 = np.dot(v2, v2)\n",
    "    \n",
    "    denom = norm_vec1 + norm_vec2 - dot_product\n",
    "\n",
    "    return dot_product / denom"
   ]
  },
  {
   "cell_type": "markdown",
   "metadata": {},
   "source": [
    "### Apply to the antibiotics case, which has fewer compounds per batch"
   ]
  },
  {
   "cell_type": "code",
   "execution_count": null,
   "metadata": {},
   "outputs": [],
   "source": [
    "result_dir = Path('../results')\n",
    "fig_dir = Path('antibiotics')\n",
    "\n",
    "storage = []\n",
    "for file in result_dir.rglob('wong_antibiotics*.json'): \n",
    "    with open(file, 'r') as f: \n",
    "        storage.extend(json.load(f))\n",
    "\n",
    "all_data = pd.read_csv(data_dir / 'wong_antibiotics.csv')\n",
    "all_smiles = list(all_data['smiles'])\n",
    "test_data = {smi: score for smi, score in zip(all_smiles, all_data['Mean_50uM'])}\n",
    "\n",
    "featurizer = fp_featurizer(all_smiles)"
   ]
  },
  {
   "cell_type": "code",
   "execution_count": 15,
   "metadata": {},
   "outputs": [],
   "source": [
    "# select random seed and iteration \n",
    "rs = 7 \n",
    "it = 1\n",
    "\n",
    "methods = ['UCB', 'Ours', 'pTS', 'qEI']\n",
    "storage_filt = []\n",
    "for entry in storage: \n",
    "    if entry['Method'] in methods: \n",
    "        if entry['Iteration']==it and entry['Random seed']==rs: \n",
    "            storage_filt.append(entry)"
   ]
  },
  {
   "cell_type": "code",
   "execution_count": null,
   "metadata": {},
   "outputs": [],
   "source": [
    "# create nx graphs \n",
    "import networkx as nx\n",
    "tani_min = 0.4\n",
    "\n",
    "for entry in storage_filt: \n",
    "    batch = list(entry['New acquired points'].keys())\n",
    "    # Create a graph\n",
    "    G = nx.Graph()\n",
    "\n",
    "    # Add nodes (sequences) to the graph\n",
    "    for i, smi in enumerate(batch):\n",
    "        G.add_node(i, label=str(smi))\n",
    "\n",
    "    # Add edges based on sequence similarity\n",
    "    widths = []\n",
    "    all_sims = []\n",
    "    for i, smi_1 in enumerate(batch):\n",
    "        for j, smi_2 in enumerate(batch):\n",
    "            if i >= j: \n",
    "                continue \n",
    "            tani_sim = tanimoto_similarity(featurizer[smi_1], featurizer[smi_2])\n",
    "            all_sims.append(tani_sim)\n",
    "            if tani_sim > tani_min:\n",
    "                G.add_edge(i, j, weight=tani_sim)\n",
    "                widths.append(tani_sim)\n",
    "\n",
    "    # Visualize the network\n",
    "    pos = nx.spring_layout(G, seed=0, k=0.5)\n",
    "    fig, ax = plt.subplots(1,1)\n",
    "    nx.draw(G, pos, width=0.5,\n",
    "            node_color=plot_utils.method_colors[entry['Method']], \n",
    "            node_size=15, \n",
    "            ax=ax, \n",
    "            edgecolors='k', linewidths=0.5)\n",
    "    plot_utils.set_size(w=1, h=1, ax=ax)\n",
    "    fig.savefig(fig_dir / f'batch_{entry[\"Method\"]}_rs{entry[\"Random seed\"]}_it{entry[\"Iteration\"]}.pdf', bbox_inches='tight', transparent=True)\n",
    "\n",
    "    # histogram of similarities \n",
    "    fig, ax = plt.subplots(1,1)\n",
    "    ax.hist(all_sims, color=plot_utils.method_colors[entry['Method']], range=[0,1], bins=15, linewidth=0.5, edgecolor='black')\n",
    "    ax.set_ylim([0,500])\n",
    "    ax.set_xlabel('Tanimoto similarity')\n",
    "    plot_utils.set_size(w=1, h=0.5, ax=ax)\n",
    "    fig.savefig(fig_dir / f'hist_{entry[\"Method\"]}_rs{entry[\"Random seed\"]}_it{entry[\"Iteration\"]}.pdf', bbox_inches='tight', transparent=True)\n"
   ]
  }
 ],
 "metadata": {
  "kernelspec": {
   "display_name": "torchgpu",
   "language": "python",
   "name": "python3"
  },
  "language_info": {
   "codemirror_mode": {
    "name": "ipython",
    "version": 3
   },
   "file_extension": ".py",
   "mimetype": "text/x-python",
   "name": "python",
   "nbconvert_exporter": "python",
   "pygments_lexer": "ipython3",
   "version": "3.12.3"
  }
 },
 "nbformat": 4,
 "nbformat_minor": 2
}
