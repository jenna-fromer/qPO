{
 "cells": [
  {
   "cell_type": "code",
   "execution_count": 34,
   "metadata": {},
   "outputs": [
    {
     "data": {
      "text/plain": [
       "<contextlib.ExitStack at 0x7f3f4ce7b170>"
      ]
     },
     "execution_count": 34,
     "metadata": {},
     "output_type": "execute_result"
    }
   ],
   "source": [
    "from pathlib import Path \n",
    "import pandas as pd \n",
    "import matplotlib.pyplot as plt\n",
    "import seaborn as sns \n",
    "import numpy as np \n",
    "import json \n",
    "import plot_utils\n",
    "\n",
    "plot_utils.set_style()\n",
    "plt.ioff()"
   ]
  },
  {
   "cell_type": "code",
   "execution_count": 35,
   "metadata": {},
   "outputs": [],
   "source": [
    "result_dir = Path('../results')\n",
    "data_dir = Path('../data')\n",
    "\n",
    "method_order = {'Ours': 0, 'pTS': 1, 'qEI': 2, 'Greedy': 3, 'UCB': 4}\n"
   ]
  },
  {
   "cell_type": "markdown",
   "metadata": {},
   "source": [
    "# Maximizing homo-lumo gap "
   ]
  },
  {
   "cell_type": "markdown",
   "metadata": {},
   "source": [
    "### Loading, calculating"
   ]
  },
  {
   "cell_type": "code",
   "execution_count": 36,
   "metadata": {},
   "outputs": [],
   "source": [
    "storage = []\n",
    "for file in result_dir.glob('qm9*.json'): \n",
    "    with open(file, 'r') as f: \n",
    "        storage.extend(json.load(f))"
   ]
  },
  {
   "cell_type": "markdown",
   "metadata": {},
   "source": [
    "Identify true top k and add to storage fraction of true top k information."
   ]
  },
  {
   "cell_type": "code",
   "execution_count": 37,
   "metadata": {},
   "outputs": [],
   "source": [
    "all_data = pd.read_csv(data_dir / 'qm9.csv')\n",
    "all_smiles = list(all_data['smiles'])\n",
    "test_data = {smi: score for smi, score in zip(all_smiles, all_data['gap'])}\n",
    "\n",
    "k = [0.0001, 0.001, 0.005, 0.01]\n",
    "kN = [int(np.ceil(kk*len(test_data))) for kk in k]\n",
    "top_smis = {kk: set(sorted(list(test_data), key = lambda smi: -1*test_data[smi])[:kk]) for kk in kN}\n",
    "\n",
    "for entry in storage: \n",
    "    for kkN, kk in zip(kN, k): \n",
    "        entry[f'Fraction top {100*kk:0.2f}%'] = len(top_smis[kkN].intersection(set(entry[\"All acquired points\"].keys())))/kkN\n",
    "    entry.pop(\"All acquired points\")\n",
    "    entry.pop(\"New acquired points\")\n",
    "\n",
    "data = pd.DataFrame(storage).sort_values(by='Method', key = lambda x: x.map(method_order))"
   ]
  },
  {
   "cell_type": "markdown",
   "metadata": {},
   "source": [
    "### Plotting"
   ]
  },
  {
   "cell_type": "code",
   "execution_count": 38,
   "metadata": {},
   "outputs": [],
   "source": [
    "fig_dir = Path('qm9')\n",
    "fig_dir.mkdir(exist_ok=True, parents=True)"
   ]
  },
  {
   "cell_type": "markdown",
   "metadata": {},
   "source": [
    "### Average of top k acquired "
   ]
  },
  {
   "cell_type": "code",
   "execution_count": 40,
   "metadata": {},
   "outputs": [],
   "source": [
    "for kk in [1, 10, 50, 100]:\n",
    "    fig, ax = plt.subplots(1,1)\n",
    "    sns.lineplot(\n",
    "        data=data, x='Iteration', y=f'Top {kk} ave', \n",
    "        hue='Method', style='Method', palette=plot_utils.method_colors,\n",
    "        ax=ax, errorbar=('se',1))\n",
    "    ax.set_ylabel(f'Average of top {kk} acquired')\n",
    "    plot_utils.set_size(w=1.2, h=1, ax=ax)\n",
    "    fig.savefig(fig_dir / f'top_{kk}_average.pdf', bbox_inches='tight', transparent=True)\n",
    "\n"
   ]
  },
  {
   "cell_type": "markdown",
   "metadata": {},
   "source": [
    "### Fraction of true top k "
   ]
  },
  {
   "cell_type": "code",
   "execution_count": 41,
   "metadata": {},
   "outputs": [
    {
     "name": "stderr",
     "output_type": "stream",
     "text": [
      "/tmp/ipykernel_1273208/3554573390.py:2: RuntimeWarning: More than 20 figures have been opened. Figures created through the pyplot interface (`matplotlib.pyplot.figure`) are retained until explicitly closed and may consume too much memory. (To control this warning, see the rcParam `figure.max_open_warning`). Consider using `matplotlib.pyplot.close()`.\n",
      "  fig, ax = plt.subplots(1,1)\n"
     ]
    }
   ],
   "source": [
    "for kk, kkN in zip(k, kN):\n",
    "    fig, ax = plt.subplots(1,1)\n",
    "    sns.lineplot(\n",
    "        data=data, x='Iteration', y=f'Fraction top {100*kk:0.2f}%', \n",
    "        hue='Method', style='Method', palette=plot_utils.method_colors,\n",
    "        ax=ax, errorbar=(\"se\", 1))\n",
    "    ax.set_ylabel(f'Fraction of top {100*kk:0.2f}%')\n",
    "    plot_utils.set_size(w=1.2, h=1, ax=ax)\n",
    "    fig.savefig(fig_dir / f'fraction_true_top_{kk}.pdf', bbox_inches='tight', transparent=True)\n"
   ]
  },
  {
   "cell_type": "markdown",
   "metadata": {},
   "source": [
    "## Antibiotics"
   ]
  },
  {
   "cell_type": "code",
   "execution_count": 42,
   "metadata": {},
   "outputs": [],
   "source": [
    "storage = []\n",
    "for file in result_dir.glob('antibiotics*batch20*.json'): \n",
    "    with open(file, 'r') as f: \n",
    "        storage.extend(json.load(f))"
   ]
  },
  {
   "cell_type": "code",
   "execution_count": 43,
   "metadata": {},
   "outputs": [],
   "source": [
    "all_data = pd.read_csv(data_dir / 'antibiotics.csv')\n",
    "all_smiles = list(all_data['smiles'])\n",
    "test_data = {smi: score for smi, score in zip(all_smiles, all_data['Mean'])}\n",
    "\n",
    "k = [0.01, 0.05, 0.1]\n",
    "kN = [int(np.ceil(kk*len(test_data))) for kk in k]\n",
    "top_smis = {kk: set(sorted(list(test_data), key = lambda smi: test_data[smi])[:kk]) for kk in kN}\n",
    "\n",
    "for entry in storage: \n",
    "    for kkN, kk in zip(kN, k): \n",
    "        entry[f'Fraction top {100*kk:0.2f}%'] = len(top_smis[kkN].intersection(set(entry[\"All acquired points\"].keys())))/kkN\n",
    "    entry.pop(\"All acquired points\")\n",
    "    entry.pop(\"New acquired points\")\n",
    "\n",
    "data = pd.DataFrame(storage).sort_values(by='Method', key=lambda x: x.map(method_order))"
   ]
  },
  {
   "cell_type": "code",
   "execution_count": 44,
   "metadata": {},
   "outputs": [],
   "source": [
    "fig_dir = Path('antibiotics')\n",
    "fig_dir.mkdir(exist_ok=True, parents=True)"
   ]
  },
  {
   "cell_type": "code",
   "execution_count": 45,
   "metadata": {},
   "outputs": [],
   "source": [
    "for kk in [1, 10, 50, 100]:\n",
    "    fig, ax = plt.subplots(1,1)\n",
    "    sns.lineplot(\n",
    "        data=data, x='Iteration', y=f'Top {kk} ave', \n",
    "        hue='Method', style='Method', \n",
    "        ax=ax, palette=plot_utils.method_colors, errorbar=('se',1))\n",
    "    ax.set_ylabel(f'Average of top {kk} acquired')\n",
    "    plot_utils.set_size(w=1.2, h=1, ax=ax)\n",
    "    fig.savefig(fig_dir / f'top_{kk}_average.pdf', bbox_inches='tight', transparent=True)\n",
    "\n",
    "for kk, kkN in zip(k, kN):\n",
    "    fig, ax = plt.subplots(1,1)\n",
    "    sns.lineplot(\n",
    "        data=data, x='Iteration', y=f'Fraction top {100*kk:0.2f}%', \n",
    "        hue='Method', style='Method', \n",
    "        ax=ax, palette=plot_utils.method_colors, errorbar=(\"se\", 1))\n",
    "    ax.set_ylabel(f'Fraction of top {100*kk:0.2f}%')\n",
    "    plot_utils.set_size(w=1.2, h=1, ax=ax)\n",
    "    fig.savefig(fig_dir / f'fraction_true_top_{kk}.pdf', bbox_inches='tight', transparent=True)"
   ]
  }
 ],
 "metadata": {
  "kernelspec": {
   "display_name": "torchgpu",
   "language": "python",
   "name": "python3"
  },
  "language_info": {
   "codemirror_mode": {
    "name": "ipython",
    "version": 3
   },
   "file_extension": ".py",
   "mimetype": "text/x-python",
   "name": "python",
   "nbconvert_exporter": "python",
   "pygments_lexer": "ipython3",
   "version": "3.12.3"
  }
 },
 "nbformat": 4,
 "nbformat_minor": 2
}
